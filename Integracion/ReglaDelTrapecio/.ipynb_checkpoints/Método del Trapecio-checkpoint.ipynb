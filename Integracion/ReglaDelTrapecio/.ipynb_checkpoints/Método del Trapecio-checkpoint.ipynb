{
 "cells": [
  {
   "cell_type": "markdown",
   "metadata": {},
   "source": [
    "# *MÉTODO DEL TRAPECIO*"
   ]
  },
  {
   "cell_type": "markdown",
   "metadata": {},
   "source": [
    "## A) DEMOSTRACIÓN GEOMÉTRICA."
   ]
  },
  {
   "cell_type": "markdown",
   "metadata": {},
   "source": [
    "### Para una Linea Recta."
   ]
  },
  {
   "cell_type": "markdown",
   "metadata": {},
   "source": [
    "![Trap_1](https://user-images.githubusercontent.com/47722525/78745810-da85a380-792a-11ea-8857-99a85a408f4d.png)"
   ]
  },
  {
   "cell_type": "markdown",
   "metadata": {},
   "source": [
    "![Trap_2](https://user-images.githubusercontent.com/47722525/78745839-f12bfa80-792a-11ea-9bfe-ecc84c247d6a.png)"
   ]
  },
  {
   "cell_type": "markdown",
   "metadata": {},
   "source": [
    "### Regla del Trapecio de Aplicación Multiple"
   ]
  },
  {
   "cell_type": "markdown",
   "metadata": {},
   "source": [
    "![Trap_3](https://user-images.githubusercontent.com/47722525/78745887-0ef95f80-792b-11ea-9cad-0ca3e8cf1cdb.png)"
   ]
  },
  {
   "cell_type": "markdown",
   "metadata": {},
   "source": [
    "## B) FÓRMULA MATEMÁTICA."
   ]
  },
  {
   "cell_type": "markdown",
   "metadata": {},
   "source": [
    "![FormTrap1](https://user-images.githubusercontent.com/47722525/78745920-2d5f5b00-792b-11ea-858f-3bf40df1945c.png)"
   ]
  },
  {
   "cell_type": "markdown",
   "metadata": {},
   "source": [
    "## C) DIAGRAMA DE FLUJO DEL MÉTODO DEL TRAPECIO."
   ]
  },
  {
   "cell_type": "markdown",
   "metadata": {},
   "source": [
    "![DiagF](https://user-images.githubusercontent.com/47722525/78745962-4536df00-792b-11ea-884c-a6daec467fb5.png)"
   ]
  },
  {
   "cell_type": "markdown",
   "metadata": {},
   "source": [
    "## D) PROGRAMACIÓN DEL MÉTODO DEL TRAPECIO."
   ]
  },
  {
   "cell_type": "code",
   "execution_count": 2,
   "metadata": {},
   "outputs": [],
   "source": [
    "# Librerias\n",
    "import math\n",
    "import numpy as np\n",
    "import matplotlib.pyplot as plt\n",
    "\n",
    "# Función\n",
    "def Integral_Trapesio(V_fx, a, b, n):\n",
    "    '''\n",
    "    (V_fx, a, b, n) -> Area bajo la curva\n",
    "    \n",
    "    Devuelve el area bajo una curva (en intervalos iguales).\n",
    "\n",
    "    Inputs:\n",
    "    a = Inicio del intervalo.\n",
    "    b = Final del intervalo.\n",
    "    n = Número de diviciones en el intervalo.\n",
    "    V_fx = vector f(x) = 0 de la funcion a integrar.\n",
    "    \n",
    "    Output:\n",
    "    Area bajo la curva\n",
    "    \n",
    "    Programó:\n",
    "    Ing. Josue Emmanuel Cruz Barragan\n",
    "    '''\n",
    "    V_S_2fxi = [2*fxi for fxi in V_fx if fxi!=V_fx[-1] if fxi!=V_fx[0]]\n",
    "    S_2fxi = sum(V_S_2fxi)\n",
    "    fa = V_fx[0]\n",
    "    fb = V_fx[-1]\n",
    "\n",
    "    return (b-a)*(fa + S_2fxi + fb)/(2*n)"
   ]
  },
  {
   "cell_type": "markdown",
   "metadata": {},
   "source": [
    "## E) APLICACIÓN DEL MÉTODO DEL TRAPECIO A LA HIDRÁULICA."
   ]
  },
  {
   "cell_type": "markdown",
   "metadata": {},
   "source": [
    "### EJEMPLO 1.- ÁREA Y CAUDAL DE UN RÍO."
   ]
  },
  {
   "cell_type": "markdown",
   "metadata": {},
   "source": [
    "### _Se recolectaron los siguientes datos para una sección transversal de un río (y = distancia de una rivera, H = profundidad y U = velocidad):_"
   ]
  },
  {
   "cell_type": "markdown",
   "metadata": {},
   "source": [
    "| y,mts. |  H,mts.| U,m/s. |\n",
    "| ------ |--------| ------:|\n",
    "|    0   |   0.0  |   0.0  |\n",
    "|    2   |   1.8  |   0.10 |\n",
    "|    4   |   2.0  |   0.12 |\n",
    "|    6   |   4.0  |   0.20 |\n",
    "|    8   |   4.0  |   0.25 |\n",
    "|   10   |   6.0  |   0.35 |\n",
    "|   12   |   4.0  |   0.30 |\n",
    "|   14   |   3.6  |   0.20 |\n",
    "|   16   |   3.4  |   0.15 |\n",
    "|   18   |   2.8  |   0.13 |\n",
    "|   20   |   0.0  |   0.0  |"
   ]
  },
  {
   "cell_type": "markdown",
   "metadata": {},
   "source": [
    "### _Use integración numérica para calcular: a) la profundidad promedio, b) el área de la sección transversal, c) la velocidad promedio y d) el caudal. Observe que el área transversal (A) y el caudal (Q) se pueden calcular como:_"
   ]
  },
  {
   "cell_type": "markdown",
   "metadata": {},
   "source": [
    "![E1](https://user-images.githubusercontent.com/47722525/78746093-9646d300-792b-11ea-80a0-6d10b12acc14.png)"
   ]
  },
  {
   "cell_type": "markdown",
   "metadata": {},
   "source": [
    "### SOLUCIÓN."
   ]
  },
  {
   "cell_type": "markdown",
   "metadata": {},
   "source": [
    "### a) Datos:"
   ]
  },
  {
   "cell_type": "code",
   "execution_count": 3,
   "metadata": {},
   "outputs": [],
   "source": [
    "y = [0,2,4,6,8,10,12,14,16,18,20]                     # Distancia de una rivera, metros.\n",
    "H = [0,1.8,2,4,4,6,4,3.6,3.4,2.8,0]                   # Profundidad, metros.\n",
    "U = [0,0.1,0.12,0.20,0.25,0.35,0.30,0.20,0.15,0.13,0] # Velocidad, m/s."
   ]
  },
  {
   "cell_type": "markdown",
   "metadata": {},
   "source": [
    "### b) Gráfica de la sección transversal del Río:"
   ]
  },
  {
   "cell_type": "code",
   "execution_count": 4,
   "metadata": {},
   "outputs": [
    {
     "data": {
      "image/png": "[encoded data removed]",
      "text/plain": [
       "<Figure size 432x288 with 1 Axes>"
      ]
     },
     "metadata": {
      "needs_background": "light"
     },
     "output_type": "display_data"
    }
   ],
   "source": [
    "Prof = [[-1*h,0] for h in H ]\n",
    "plt.plot(y,Prof,color='blue')\n",
    "plt.title('Perfil del Área Transversal')\n",
    "plt.xlabel('Distancia (y, metros)')\n",
    "plt.ylabel('Profundidad (H, metros)')\n",
    "plt.text(7, -2.5, 'Área Transversal', fontsize=12,color='blue')\n",
    "plt.axis([0, 20,-6,1])\n",
    "plt.show()"
   ]
  },
  {
   "cell_type": "markdown",
   "metadata": {},
   "source": [
    "### c) Resultados:"
   ]
  },
  {
   "cell_type": "markdown",
   "metadata": {},
   "source": [
    "#### Profundidad promedio"
   ]
  },
  {
   "cell_type": "code",
   "execution_count": 5,
   "metadata": {},
   "outputs": [
    {
     "name": "stdout",
     "output_type": "stream",
     "text": [
      "La profundidad promedio es de: 2.87 metros\n"
     ]
    }
   ],
   "source": [
    "Hprom = round(sum(H)/len(H),2)\n",
    "print('La profundidad promedio es de:',Hprom,'metros')"
   ]
  },
  {
   "cell_type": "markdown",
   "metadata": {},
   "source": [
    "#### Area de la sección transversal"
   ]
  },
  {
   "cell_type": "code",
   "execution_count": 6,
   "metadata": {},
   "outputs": [
    {
     "name": "stdout",
     "output_type": "stream",
     "text": [
      "El área transversal del río es:  63.2 m2\n"
     ]
    }
   ],
   "source": [
    "n = len(y)-1\n",
    "a = y[0]\n",
    "b = y[-1]\n",
    "V_fx = H\n",
    "At = round(Integral_Trapesio(V_fx, a, b, n),2)\n",
    "print('El área transversal del río es: ',At,'m2')"
   ]
  },
  {
   "cell_type": "markdown",
   "metadata": {},
   "source": [
    "#### Velocidad promedio"
   ]
  },
  {
   "cell_type": "code",
   "execution_count": 7,
   "metadata": {},
   "outputs": [
    {
     "name": "stdout",
     "output_type": "stream",
     "text": [
      "La velocidad promedio es de: 0.16 m/s\n"
     ]
    }
   ],
   "source": [
    "Vprom = sum(U)/len(U)\n",
    "print('La velocidad promedio es de:',round(Vprom,2),'m/s')"
   ]
  },
  {
   "cell_type": "markdown",
   "metadata": {},
   "source": [
    "#### Caudal"
   ]
  },
  {
   "cell_type": "code",
   "execution_count": 8,
   "metadata": {},
   "outputs": [
    {
     "name": "stdout",
     "output_type": "stream",
     "text": [
      "El caudal del río es:  14.23 m3/s\n"
     ]
    }
   ],
   "source": [
    "n = len(y)-1\n",
    "a = y[0]\n",
    "b = y[-1]\n",
    "V_fx = [H[q]*U[q] for q in range(len(H))]\n",
    "Q = round(Integral_Trapesio(V_fx, a, b, n),2)\n",
    "print('El caudal del río es: ',Q,'m3/s')"
   ]
  },
  {
   "cell_type": "markdown",
   "metadata": {},
   "source": [
    "### EJEMPLO 2.- CANTIDAD DE MASA TRANSPORTADA."
   ]
  },
  {
   "cell_type": "markdown",
   "metadata": {},
   "source": [
    "### _La cantidad de masa transportada por un tubo en un periodo dado se puede calcular como:_"
   ]
  },
  {
   "cell_type": "markdown",
   "metadata": {},
   "source": [
    "![masa](https://user-images.githubusercontent.com/47722525/78746345-24bb5480-792c-11ea-89bc-2c6fcc98b3dc.png)"
   ]
  },
  {
   "cell_type": "markdown",
   "metadata": {},
   "source": [
    "### _donde M = masa (mg), t1 = tiempo inicial en (min), t2 = tiempo final en (min), Q(t) = caudal (m3/s) y c(t) = concentración (mg/m3). Las siguientes representaciones funcionales definen las variaciones temporales en flujo y concentración:_"
   ]
  },
  {
   "cell_type": "markdown",
   "metadata": {},
   "source": [
    "![Qc](https://user-images.githubusercontent.com/47722525/78746406-64823c00-792c-11ea-9f75-b2a33a91cb12.png)"
   ]
  },
  {
   "cell_type": "markdown",
   "metadata": {},
   "source": [
    "### _Determine la masa transportada entre t1 = 2 y t2 = 8 min._"
   ]
  },
  {
   "cell_type": "markdown",
   "metadata": {},
   "source": [
    "### SOLUCIÓN."
   ]
  },
  {
   "cell_type": "markdown",
   "metadata": {},
   "source": [
    "### a) Datos:"
   ]
  },
  {
   "cell_type": "code",
   "execution_count": 10,
   "metadata": {},
   "outputs": [],
   "source": [
    "a = 2 # t1, minutos\n",
    "b = 8 # t2, minutos\n",
    "n = 101 # intervalos"
   ]
  },
  {
   "cell_type": "markdown",
   "metadata": {},
   "source": [
    "#### Discretizamos el tiempo y gráficamos Q(t)c(t)"
   ]
  },
  {
   "cell_type": "code",
   "execution_count": 11,
   "metadata": {},
   "outputs": [
    {
     "data": {
      "image/png": "[encoded data removed]",
      "text/plain": [
       "<Figure size 432x288 with 1 Axes>"
      ]
     },
     "metadata": {
      "needs_background": "light"
     },
     "output_type": "display_data"
    }
   ],
   "source": [
    "# Discretizamos el tiempo en 100 intervalos (n-1):\n",
    "t = np.linspace(a, b, n)\n",
    "\n",
    "# Creamos las funciones del caudal y de la concentración:\n",
    "Qt = lambda t: 9 + 4*(math.cos(0.4*t))**2\n",
    "ct = lambda t: 5*math.exp(-0.5*t) + 2*math.exp(0.15*t)\n",
    "\n",
    "# Con el timepo discretizado multiplicamos Q(t) por c(t) para graficar la razon de cambio:\n",
    "Qtct = [Qt(t[i])*ct(t[i]) for i in range(len(t))]\n",
    "\n",
    "plt.plot(t,Qtct,color='green',label='Q(t)c(t)')\n",
    "plt.title('Gráfica de la razón de cambio')\n",
    "plt.xlabel('Tiempo (minutos)')\n",
    "plt.ylabel('Q(t)*c(t) (mg/min)')\n",
    "plt.axis([2, 8,0,90])\n",
    "plt.legend();\n",
    "plt.show()"
   ]
  },
  {
   "cell_type": "markdown",
   "metadata": {},
   "source": [
    "### b) Resultados:"
   ]
  },
  {
   "cell_type": "code",
   "execution_count": 13,
   "metadata": {},
   "outputs": [
    {
     "name": "stdout",
     "output_type": "stream",
     "text": [
      "La cantidad de masa transportada es 319.16 mg\n"
     ]
    }
   ],
   "source": [
    "V_fx = Qtct\n",
    "M = round(Integral_Trapesio(V_fx, a, b, n),2)\n",
    "print('La cantidad de masa transportada es',M,'mg')"
   ]
  }
 ],
 "metadata": {
  "kernelspec": {
   "display_name": "Python 3",
   "language": "python",
   "name": "python3"
  },
  "language_info": {
   "codemirror_mode": {
    "name": "ipython",
    "version": 3
   },
   "file_extension": ".py",
   "mimetype": "text/x-python",
   "name": "python",
   "nbconvert_exporter": "python",
   "pygments_lexer": "ipython3",
   "version": "3.7.0"
  }
 },
 "nbformat": 4,
 "nbformat_minor": 2
}
