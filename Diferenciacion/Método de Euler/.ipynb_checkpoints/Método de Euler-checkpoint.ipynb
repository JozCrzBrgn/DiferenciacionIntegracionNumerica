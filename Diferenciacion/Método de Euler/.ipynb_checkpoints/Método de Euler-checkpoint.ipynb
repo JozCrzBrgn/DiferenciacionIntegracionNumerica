{
 "cells": [
  {
   "cell_type": "markdown",
   "metadata": {},
   "source": [
    "# *MÉTODO DE EULER*"
   ]
  },
  {
   "cell_type": "markdown",
   "metadata": {},
   "source": [
    "## A) DEMOSTRACIÓN GEOMÉTRICA."
   ]
  },
  {
   "cell_type": "markdown",
   "metadata": {},
   "source": [
    "![Geom](https://user-images.githubusercontent.com/47722525/78747028-00607780-792e-11ea-8fe2-33f02595069a.png)"
   ]
  },
  {
   "cell_type": "markdown",
   "metadata": {},
   "source": [
    "## B) FÓRMULA MATEMÁTICA."
   ]
  },
  {
   "cell_type": "markdown",
   "metadata": {},
   "source": [
    "![Mate](https://user-images.githubusercontent.com/47722525/78747051-19692880-792e-11ea-8217-bdff0a1a2ea0.png)"
   ]
  },
  {
   "cell_type": "markdown",
   "metadata": {},
   "source": [
    "## C) DIAGRAMA DE FLUJO DEL MÉTODO DE EULER."
   ]
  },
  {
   "cell_type": "markdown",
   "metadata": {},
   "source": [
    "![DiagFlujo](https://user-images.githubusercontent.com/47722525/78747094-34d43380-792e-11ea-8efd-fc5784ea9d95.png)"
   ]
  },
  {
   "cell_type": "markdown",
   "metadata": {},
   "source": [
    "## D) APLICACIÓN DEL MÉTODO DE EULER A LA HIDRÁULICA."
   ]
  },
  {
   "cell_type": "markdown",
   "metadata": {},
   "source": [
    "### EJEMPLO 1.- VACIADO DE TANQUE CON FORMA HEMISFÉRICA."
   ]
  },
  {
   "cell_type": "markdown",
   "metadata": {},
   "source": [
    "### _Una taza hemisférica de radio R = 1.5 m está llena de agua. Si hay un pequeño orificio de radio r = 1.5 cm en el fondo de la superficie convexa y con coeficiente de vaciado c = 0.55, determine el tiempo de vaciado. La ecuación diferencial que rige la velocidad de vaciado es:_"
   ]
  },
  {
   "cell_type": "markdown",
   "metadata": {},
   "source": [
    "![TanqueCirc](https://user-images.githubusercontent.com/47722525/78747184-60571e00-792e-11ea-873c-b2a6d18d1b1b.png)"
   ]
  },
  {
   "cell_type": "markdown",
   "metadata": {},
   "source": [
    "### SOLUCIÓN."
   ]
  },
  {
   "cell_type": "markdown",
   "metadata": {},
   "source": [
    "### a) Datos:"
   ]
  },
  {
   "cell_type": "code",
   "execution_count": 5,
   "metadata": {},
   "outputs": [],
   "source": [
    "##############\n",
    "# Constantes #\n",
    "##############\n",
    "g = 9.81  #--> Gravedad, m/s.\n",
    "R = 1.5   #--> Radio del contenedor, metros.\n",
    "r = 0.015 #--> Radio del orificio, metros.\n",
    "c = 0.55  #--> Coeficiente de descarga.\n",
    "\n",
    "#########################\n",
    "# Condiciones iniciales #\n",
    "#########################\n",
    "Dh = -0.01 #--> Paso.\n",
    "to = 0 #--> Tiempo inicial, segundos.\n",
    "ho = R #--> Altura inicial del agua en to = 0, metros."
   ]
  },
  {
   "cell_type": "markdown",
   "metadata": {},
   "source": [
    "### b) Diferenciación Númerica:"
   ]
  },
  {
   "cell_type": "code",
   "execution_count": 6,
   "metadata": {},
   "outputs": [],
   "source": [
    "############\n",
    "# Libreria #\n",
    "############\n",
    "import math\n",
    "\n",
    "#########################################################\n",
    "# Variacion del tiempo con respecto a la altura (dt/dh) #\n",
    "#########################################################\n",
    "dtdh = lambda h : -(2*R*h-h**2)/((r**2)*c*math.sqrt(2*g*h))\n",
    "\n",
    "###########################\n",
    "# Diferenciación númerica #\n",
    "###########################\n",
    "hprom = lambda h1,h2 : (h1+h2)/2 #--> Promedio de la altura \n",
    "while True:\n",
    "    h1 = ho + Dh #--> Decremento de la altura. \n",
    "    hp = hprom(h1,ho)\n",
    "    t1 = to + dtdh(hp)*Dh #--> Avance del tiempo.\n",
    "    ho = h1\n",
    "    to = t1\n",
    "    \n",
    "    if ho < 0:\n",
    "        break #--> Una ves que el tirante de agua sea cero que se detenga el proceso.\n",
    "        "
   ]
  },
  {
   "cell_type": "markdown",
   "metadata": {},
   "source": [
    "### c) Resultados:"
   ]
  },
  {
   "cell_type": "code",
   "execution_count": 7,
   "metadata": {},
   "outputs": [
    {
     "name": "stdout",
     "output_type": "stream",
     "text": [
      "El tanque se vaciará en: 1 hrs 18 min 12 seg\n"
     ]
    }
   ],
   "source": [
    "thr = to/3600 #--> Horas que le toma al tanque vaciarce.\n",
    "tmin = abs(int(thr)-float(thr))*60 #--> Minutos que le toma al tanque vaciarce.\n",
    "ts = abs(int(tmin)-float(tmin))*60 #--> Segundos que le toma al tanque vaciarce.\n",
    "print('El tanque se vaciará en:',int(thr),'hrs',int(tmin),'min',int(ts),'seg')"
   ]
  },
  {
   "cell_type": "markdown",
   "metadata": {},
   "source": [
    "### EJEMPLO 2.- VACIADO DE TANQUE CON FORMA DE CONO CIRCULAR RECTO."
   ]
  },
  {
   "cell_type": "markdown",
   "metadata": {},
   "source": [
    "### _Un tanque en forma de cono circular recto, de altura H, radio R y vértice por debajo de la base, está totalmente lleno con agua. Determine el tiempo de vaciado total, si H = 12pies, R = 5pies, a = 1pulg2 y C = 0,6. La ecuación diferencial que rige la velocidad de vaciado es:_"
   ]
  },
  {
   "cell_type": "markdown",
   "metadata": {},
   "source": [
    "![TanqueCono](https://user-images.githubusercontent.com/47722525/78747343-cc398680-792e-11ea-913d-24d7af2b88a3.png)"
   ]
  },
  {
   "cell_type": "markdown",
   "metadata": {},
   "source": [
    "### SOLUCIÓN."
   ]
  },
  {
   "cell_type": "markdown",
   "metadata": {},
   "source": [
    "### a) Datos:"
   ]
  },
  {
   "cell_type": "code",
   "execution_count": 9,
   "metadata": {},
   "outputs": [],
   "source": [
    "##############\n",
    "# Constantes #\n",
    "##############\n",
    "g = 32    #--> Gravedad, ft/s2.\n",
    "H = 12    #--> Altura del contenedor, ft.\n",
    "R = 5     #--> Radio superior del contenedor, ft.\n",
    "a = 1/144 #--> Radio del orificio, ft.\n",
    "c = 0.6   #--> Coeficiente de descarga.\n",
    "\n",
    "#########################\n",
    "# Condiciones iniciales #\n",
    "#########################\n",
    "Dh = -0.01 #--> Paso.\n",
    "to = 0 #--> Tiempo inicial, segundos.\n",
    "ho = H #--> Altura inicial del agua en to = 0, ft."
   ]
  },
  {
   "cell_type": "markdown",
   "metadata": {},
   "source": [
    "### b) Diferenciación Númerica:"
   ]
  },
  {
   "cell_type": "code",
   "execution_count": 10,
   "metadata": {},
   "outputs": [],
   "source": [
    "############\n",
    "# Libreria #\n",
    "############\n",
    "import math\n",
    "\n",
    "#########################################################\n",
    "# Variacion del tiempo con respecto a la altura (dt/dh) #\n",
    "#########################################################\n",
    "dtdh = lambda h : -(math.pi*(R**2)*(h**1.5))/(a*c*(H**2)*math.sqrt(2*g))\n",
    "\n",
    "###########################\n",
    "# Diferenciación númerica #\n",
    "###########################\n",
    "hprom = lambda h1,h2 : (h1+h2)/2 #--> Promedio de la altura \n",
    "while True:\n",
    "    h1 = ho + Dh #--> Decremento de la altura. \n",
    "    hp = hprom(h1,ho)\n",
    "    t1 = to + dtdh(hp)*Dh #--> Avance del tiempo.\n",
    "    ho = h1\n",
    "    to = t1\n",
    "    \n",
    "    if ho <= 0.1:\n",
    "        break #--> Una ves que el tirante de agua sea cero que se detenga el proceso."
   ]
  },
  {
   "cell_type": "markdown",
   "metadata": {},
   "source": [
    "### c) Resultados:"
   ]
  },
  {
   "cell_type": "code",
   "execution_count": 11,
   "metadata": {},
   "outputs": [
    {
     "name": "stdout",
     "output_type": "stream",
     "text": [
      "El tanque se vaciará en: 0 hrs 54 min 24 seg\n"
     ]
    }
   ],
   "source": [
    "thr = to/3600 #--> Horas que le toma al tanque vaciarce.\n",
    "tmin = abs(int(thr)-float(thr))*60 #--> Minutos que le toma al tanque vaciarce.\n",
    "ts = abs(int(tmin)-float(tmin))*60 #--> Segundos que le toma al tanque vaciarce.\n",
    "print('El tanque se vaciará en:',int(thr),'hrs',int(tmin),'min',int(ts),'seg')"
   ]
  }
 ],
 "metadata": {
  "kernelspec": {
   "display_name": "Python 3",
   "language": "python",
   "name": "python3"
  },
  "language_info": {
   "codemirror_mode": {
    "name": "ipython",
    "version": 3
   },
   "file_extension": ".py",
   "mimetype": "text/x-python",
   "name": "python",
   "nbconvert_exporter": "python",
   "pygments_lexer": "ipython3",
   "version": "3.7.0"
  }
 },
 "nbformat": 4,
 "nbformat_minor": 2
}
